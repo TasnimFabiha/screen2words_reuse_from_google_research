{
 "cells": [
  {
   "cell_type": "code",
   "execution_count": 4,
   "metadata": {},
   "outputs": [],
   "source": [
    "import pandas as pd\n",
    "import json\n",
    "\n",
    "# Read the CSV file into a pandas DataFrame\n",
    "df = pd.read_csv('../screen_summaries.csv')\n",
    "\n",
    "# Group the DataFrame by screenId and extract unique screenId and summary\n",
    "groups = df.groupby('screenId')['summary'].unique().apply(list)\n",
    "\n",
    "# Create a dictionary with screenId as key and labels list as value\n",
    "data = {}\n",
    "for index, value in groups.items():\n",
    "    data[index] = [[v] for v in value]\n",
    "\n",
    "# Write the dictionary to a JSON file\n",
    "with open('../screen_summaries.json', 'w') as f:\n",
    "    json.dump(data, f)\n"
   ]
  }
 ],
 "metadata": {
  "kernelspec": {
   "display_name": "Python 3",
   "language": "python",
   "name": "python3"
  },
  "language_info": {
   "codemirror_mode": {
    "name": "ipython",
    "version": 3
   },
   "file_extension": ".py",
   "mimetype": "text/x-python",
   "name": "python",
   "nbconvert_exporter": "python",
   "pygments_lexer": "ipython3",
   "version": "3.9.6"
  },
  "orig_nbformat": 4,
  "vscode": {
   "interpreter": {
    "hash": "31f2aee4e71d21fbe5cf8b01ff0e069b9275f58929596ceb00d14d90e3e16cd6"
   }
  }
 },
 "nbformat": 4,
 "nbformat_minor": 2
}
